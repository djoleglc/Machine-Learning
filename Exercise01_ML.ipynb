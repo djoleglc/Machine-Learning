{
 "cells": [
  {
   "cell_type": "markdown",
   "id": "8f5552a6-aa15-4a29-9a0c-a23af60bcdbe",
   "metadata": {
    "jp-MarkdownHeadingCollapsed": true,
    "tags": []
   },
   "source": [
    "## taskA"
   ]
  },
  {
   "cell_type": "code",
   "execution_count": null,
   "id": "aa8f402b-6203-4789-8c95-38766f251ec6",
   "metadata": {},
   "outputs": [
    {
     "data": {
      "text/plain": [
       "array([[-1.22474487, -0.84292723,  0.        ],\n",
       "       [ 1.22474487,  1.40487872,  1.22474487],\n",
       "       [ 0.        , -0.56195149, -1.22474487]])"
      ]
     },
     "execution_count": 12,
     "metadata": {},
     "output_type": "execute_result"
    }
   ],
   "source": [
    "import numpy as np \n",
    "\n",
    "#task A\n",
    "def stand(x): \n",
    "    mean = x.mean(0)\n",
    "    dev = x.std(0)\n",
    "    return (x-mean)/dev\n",
    "    \n",
    "#example\n",
    "x = np.array([[1,2,3], [3,10,5], [2,3,1]])\n",
    "stand(x)"
   ]
  },
  {
   "cell_type": "markdown",
   "id": "82af777b-5c2e-4014-beb4-b7ffd5f09675",
   "metadata": {
    "jp-MarkdownHeadingCollapsed": true,
    "tags": []
   },
   "source": [
    "## taskB"
   ]
  },
  {
   "cell_type": "code",
   "execution_count": 13,
   "id": "505d7cd9",
   "metadata": {},
   "outputs": [
    {
     "name": "stdout",
     "output_type": "stream",
     "text": [
      "[[0.77132064 0.02075195]\n",
      " [0.63364823 0.74880388]\n",
      " [0.49850701 0.22479665]\n",
      " [0.19806286 0.76053071]] \n",
      "\n",
      " [[0.16911084 0.08833981]\n",
      " [0.68535982 0.95339335]\n",
      " [0.00394827 0.51219226]\n",
      " [0.81262096 0.61252607]\n",
      " [0.72175532 0.29187607]]\n"
     ]
    }
   ],
   "source": [
    "#task B\n",
    "np.random.seed(10)\n",
    "p, q = (np.random.rand(i, 2) for i in (4, 5))\n",
    "p_big, q_big = (np.random.rand(i, 80) for i in (100, 120))\n",
    "\n",
    "print(p, \"\\n\\n\", q)"
   ]
  },
  {
   "cell_type": "code",
   "execution_count": 4,
   "id": "b54b0dbd",
   "metadata": {},
   "outputs": [],
   "source": [
    "def naive(p, q):\n",
    "    \n",
    "    def dist(x1, x2, y1, y2):\n",
    "        return np.sqrt( (x1-y1)**2 + (x2-y2)**2)\n",
    "    \n",
    "    empty = np.zeros((p.shape[0], q.shape[0]))\n",
    "    for i in range(p.shape[0]):\n",
    "        for j in range(q.shape[0]):\n",
    "            empty[i,j] = dist(p[i,0], p[i,1], q[j,0], q[j,1])\n",
    "    return empty\n"
   ]
  },
  {
   "cell_type": "code",
   "execution_count": 14,
   "id": "b4cae46d",
   "metadata": {},
   "outputs": [
    {
     "name": "stdout",
     "output_type": "stream",
     "text": [
      "[0 0 0 0 0 1 1 1 1 1 2 2 2 2 2 3 3 3 3 3]\n",
      "\n",
      "[0 1 2 3 4 0 1 2 3 4 0 1 2 3 4 0 1 2 3 4]\n"
     ]
    }
   ],
   "source": [
    "rows, cols = np.indices((p.shape[0], q.shape[0]))\n",
    "print(rows.ravel(), end='\\n\\n')\n",
    "print(cols.ravel())\n"
   ]
  },
  {
   "cell_type": "code",
   "execution_count": 6,
   "id": "b8bcd7f1",
   "metadata": {},
   "outputs": [],
   "source": [
    "\n",
    "def with_indices(p, q):\n",
    "    rows, cols = np.indices((p.shape[0], q.shape[0]))\n",
    "    minus = (p[rows.ravel()] - q[cols.ravel()])**2\n",
    "    return np.sqrt(minus.sum(1)).reshape(p.shape[0], q.shape[0])\n",
    "\n",
    "from scipy.spatial.distance import cdist\n",
    "\n",
    "def scipy_version(p, q):\n",
    "    return cdist(p, q)\n"
   ]
  },
  {
   "cell_type": "code",
   "execution_count": 7,
   "id": "90d5c0bc",
   "metadata": {},
   "outputs": [],
   "source": [
    "def tensor_broadcasting(p, q):\n",
    "    return np.sqrt(np.sum((p[:,np.newaxis,:]-q[np.newaxis,:,:])**2, axis=2))"
   ]
  },
  {
   "cell_type": "code",
   "execution_count": 8,
   "id": "ce481060",
   "metadata": {},
   "outputs": [
    {
     "name": "stdout",
     "output_type": "stream",
     "text": [
      "26.5 ms ± 1 ms per loop (mean ± std. dev. of 7 runs, 10 loops each)\n",
      "11.2 ms ± 628 µs per loop (mean ± std. dev. of 7 runs, 100 loops each)\n",
      "482 µs ± 26.6 µs per loop (mean ± std. dev. of 7 runs, 1000 loops each)\n",
      "5.37 ms ± 193 µs per loop (mean ± std. dev. of 7 runs, 100 loops each)\n"
     ]
    }
   ],
   "source": [
    "methods = [naive, with_indices, scipy_version, tensor_broadcasting]\n",
    "timers = []\n",
    "for f in methods:\n",
    "    r = %timeit -o f(p_big, q_big)\n",
    "    timers.append(r)"
   ]
  },
  {
   "cell_type": "code",
   "execution_count": 9,
   "id": "02e35260",
   "metadata": {},
   "outputs": [
    {
     "data": {
      "image/png": "[encoded data removed]",
      "text/plain": [
       "<Figure size 720x432 with 1 Axes>"
      ]
     },
     "metadata": {
      "needs_background": "light"
     },
     "output_type": "display_data"
    }
   ],
   "source": [
    "import matplotlib.pyplot as plt\n",
    "plt.figure(figsize=(10,6))\n",
    "plt.bar(np.arange(len(methods)), [r.best*1000 for r in timers], log=False)  # Set log to True for logarithmic scale\n",
    "plt.xticks(np.arange(len(methods))+0.2, [f.__name__ for f in methods], rotation=30)\n",
    "plt.xlabel('Method')\n",
    "plt.ylabel('Time (ms)')\n",
    "plt.show()"
   ]
  },
  {
   "cell_type": "markdown",
   "id": "fe2b45b9-05a5-47d2-b0f9-ff53d4b27e04",
   "metadata": {
    "jp-MarkdownHeadingCollapsed": true,
    "tags": []
   },
   "source": [
    "## taskC"
   ]
  },
  {
   "cell_type": "code",
   "execution_count": 10,
   "id": "d815a0e5",
   "metadata": {},
   "outputs": [
    {
     "data": {
      "text/plain": [
       "array([0.69872366, 0.25997411])"
      ]
     },
     "execution_count": 10,
     "metadata": {},
     "output_type": "execute_result"
    }
   ],
   "source": [
    "#task C\n",
    "\n",
    "from numpy.random import rand, randn\n",
    "n, d, k = 100, 2,2\n",
    "np.random.seed(20)\n",
    "X = rand(n, d)\n",
    "\n",
    "# means = [rand(d)  for _ in range(k)]  # works for any k\n",
    "means = [rand(d) * 0.5 + 0.5 , - rand(d)  * 0.5 + 0.5]  # for better plotting when k = 2\n",
    "\n",
    "S = np.diag(rand(d))\n",
    "\n",
    "sigmas = [S]*k # we'll use the same Sigma for all clusters for better visual results\n",
    "\n",
    "np.array(means)[:,0]"
   ]
  },
  {
   "cell_type": "code",
   "execution_count": 11,
   "id": "571a1433",
   "metadata": {},
   "outputs": [
    {
     "data": {
      "image/png": "[encoded data removed]",
      "text/plain": [
       "<Figure size 432x288 with 1 Axes>"
      ]
     },
     "metadata": {
      "needs_background": "light"
     },
     "output_type": "display_data"
    }
   ],
   "source": [
    "import math \n",
    "def log_likelihood(X, mu, sigma): \n",
    "        def step(x):\n",
    "            denom = (2*math.pi)**(d/2) * np.linalg.det(sigma)**0.5\n",
    "            num = math.exp(-0.5 * (x-mu).transpose().dot(np.linalg.inv(sigma)).dot(x-mu))\n",
    "            return np.log(num/denom)\n",
    "        return np.apply_along_axis(step, 1, X)\n",
    "       \n",
    "log_ps = [log_likelihood(X, m, s) for m, s in zip(means, sigmas)] \n",
    "\n",
    "assignments = np.argmax(log_ps, 0) \n",
    "colors = np.array(['red', 'green'])[assignments]\n",
    "plt.scatter(X[:, 0], X[:, 1], c=colors, s=100)\n",
    "plt.scatter(np.array(means)[:, 0], np.array(means)[:, 1], marker='*', s=200)\n",
    "plt.show()"
   ]
  },
  {
   "cell_type": "code",
   "execution_count": null,
   "id": "25b92ef3",
   "metadata": {},
   "outputs": [],
   "source": []
  },
  {
   "cell_type": "code",
   "execution_count": null,
   "id": "0867a30d",
   "metadata": {},
   "outputs": [],
   "source": []
  },
  {
   "cell_type": "code",
   "execution_count": null,
   "id": "50798fff-7ccc-4b94-bbea-56be8ec3a50c",
   "metadata": {},
   "outputs": [],
   "source": []
  }
 ],
 "metadata": {
  "kernelspec": {
   "display_name": "Python 3 (ipykernel)",
   "language": "python",
   "name": "python3"
  },
  "language_info": {
   "codemirror_mode": {
    "name": "ipython",
    "version": 3
   },
   "file_extension": ".py",
   "mimetype": "text/x-python",
   "name": "python",
   "nbconvert_exporter": "python",
   "pygments_lexer": "ipython3",
   "version": "3.9.7"
  }
 },
 "nbformat": 4,
 "nbformat_minor": 5
}
