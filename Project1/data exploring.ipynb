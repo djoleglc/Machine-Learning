{
 "cells": [
  {
   "cell_type": "code",
   "execution_count": 1,
   "id": "84d2da41",
   "metadata": {},
   "outputs": [],
   "source": [
    "#look at data \n",
    "import numpy as np\n",
    "import matplotlib.pyplot as plt\n",
    "import pandas as pd\n",
    "from helpers import *\n",
    "\n",
    "def load_data():\n",
    "    path_dataset = \"train.csv\"\n",
    "    x = np.genfromtxt( path_dataset, delimiter=\",\", skip_header=1,  missing_values = -9999, usecols=list(range(2, 32)) ) \n",
    "    y = np.genfromtxt( path_dataset, delimiter=\",\", skip_header=1,  missing_values = -9999, usecols = [1], dtype = \"str\" ) \n",
    "    return x,y\n",
    "\n",
    "x,y = load_data()\n",
    "\n",
    "def check_na(x,fraction_name):\n",
    "    index_to_keep = []\n",
    "    for j in range(30):\n",
    "        column = np.sum(x[:,j] == -999)/len(x[:,j] )\n",
    "        if column <= fraction_name:\n",
    "            index_to_keep.append(j)\n",
    "    return index_to_keep\n",
    "    \n",
    "column_to_keep = check_na(x, 0.17)\n",
    "x = x[:, column_to_keep]\n",
    "\n",
    "def delete_rows(x, y):\n",
    "    rows = (x == -999).sum(axis=1) == 0 \n",
    "    return x[rows,:], y[rows]\n",
    "\n",
    "x,y = delete_rows(x, y)\n",
    "\n",
    "def encode_y(y):\n",
    "    new = (y == 's')*1\n",
    "    return new\n",
    "\n",
    "y = encode_y(y)\n"
   ]
  },
  {
   "cell_type": "code",
   "execution_count": 11,
   "id": "1cc56f5f",
   "metadata": {},
   "outputs": [
    {
     "name": "stdout",
     "output_type": "stream",
     "text": [
      "Current iteration=0, loss=2769691.940121414\n",
      "Current iteration=100, loss=2761928.0319983014\n",
      "Current iteration=200, loss=2760174.6657587625\n",
      "Current iteration=300, loss=2761372.990774501\n",
      "Current iteration=400, loss=2764013.937929304\n",
      "Current iteration=500, loss=2767361.9417070155\n",
      "Current iteration=600, loss=2771060.9383667368\n",
      "Current iteration=700, loss=2774939.806941677\n",
      "Current iteration=800, loss=2778916.6620318815\n",
      "Current iteration=900, loss=2782951.8039984084\n"
     ]
    }
   ],
   "source": [
    "from regressions import * \n",
    "from helpers import *\n",
    "y_ = y[1:2000]\n",
    "x_ = standardize(x[1:2000, :])[0]\n",
    "x_c = np.c_[np.ones(1999), x_]\n",
    "\n",
    "w  = logistic_regression_gradient_descent_demo(y_, x_c, max_iter=1000, threshold=1e-8, gamma = 0.000001)\n",
    "\n",
    "fitted = (sigmoid(x_c @ w) > 0.5)*1 \n",
    "fit=fitted.reshape(len(fitted), )\n",
    "((fit == y_)*1).sum()/len(y_)"
   ]
  },
  {
   "cell_type": "code",
   "execution_count": 13,
   "id": "84e6f23b",
   "metadata": {},
   "outputs": [
    {
     "data": {
      "text/plain": [
       "0.6663331665832917"
      ]
     },
     "execution_count": 13,
     "metadata": {},
     "output_type": "execute_result"
    }
   ],
   "source": []
  },
  {
   "cell_type": "code",
   "execution_count": null,
   "id": "b50a1a52",
   "metadata": {},
   "outputs": [],
   "source": []
  }
 ],
 "metadata": {
  "kernelspec": {
   "display_name": "Python 3 (ipykernel)",
   "language": "python",
   "name": "python3"
  },
  "language_info": {
   "codemirror_mode": {
    "name": "ipython",
    "version": 3
   },
   "file_extension": ".py",
   "mimetype": "text/x-python",
   "name": "python",
   "nbconvert_exporter": "python",
   "pygments_lexer": "ipython3",
   "version": "3.9.7"
  }
 },
 "nbformat": 4,
 "nbformat_minor": 5
}
